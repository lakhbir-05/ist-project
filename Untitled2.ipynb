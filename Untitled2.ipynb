{
  "nbformat": 4,
  "nbformat_minor": 0,
  "metadata": {
    "colab": {
      "provenance": [],
      "authorship_tag": "ABX9TyMWQAMztmXD9aPus9r3YMzh",
      "include_colab_link": true
    },
    "kernelspec": {
      "name": "python3",
      "display_name": "Python 3"
    },
    "language_info": {
      "name": "python"
    }
  },
  "cells": [
    {
      "cell_type": "markdown",
      "metadata": {
        "id": "view-in-github",
        "colab_type": "text"
      },
      "source": [
        "<a href=\"https://colab.research.google.com/github/lakhbir-05/ist-project/blob/main/Untitled2.ipynb\" target=\"_parent\"><img src=\"https://colab.research.google.com/assets/colab-badge.svg\" alt=\"Open In Colab\"/></a>"
      ]
    },
    {
      "cell_type": "markdown",
      "source": [
        "## **PYTHON** **ASSIGNMENT**\n",
        "Q1. L  is a list defines as L=[11,12,13,14].\n",
        "\n",
        "(i) wap tO add 50 andf 60 tO L."
      ],
      "metadata": {
        "id": "N53X8LpzcP-o"
      }
    },
    {
      "cell_type": "code",
      "source": [
        "L=[11,12,13,14]\n",
        "L.append(50)\n",
        "L.append(60)\n",
        "print(\"list after adding 50 and 60-->\",L)\n"
      ],
      "metadata": {
        "colab": {
          "base_uri": "https://localhost:8080/"
        },
        "id": "DpUHC3BJdMh5",
        "outputId": "b68aeaea-f13e-493c-c97f-d80b311011b5"
      },
      "execution_count": 1,
      "outputs": [
        {
          "output_type": "stream",
          "name": "stdout",
          "text": [
            "list after adding 50 and 60--> [11, 12, 13, 14, 50, 60]\n"
          ]
        }
      ]
    },
    {
      "cell_type": "markdown",
      "source": [
        "(ii) wap to remove 11 and 13 from L."
      ],
      "metadata": {
        "id": "eD_2WjOTdoJF"
      }
    },
    {
      "cell_type": "code",
      "source": [
        "L=[11,12,13,14]\n",
        "L.remove(11)\n",
        "L.remove(13)\n",
        "print(\"list after removing 11 and 13-->\",L)"
      ],
      "metadata": {
        "colab": {
          "base_uri": "https://localhost:8080/"
        },
        "id": "g3ffvkpQdvzP",
        "outputId": "d587e361-e37c-4cd5-957e-55a8fca34e55"
      },
      "execution_count": 5,
      "outputs": [
        {
          "output_type": "stream",
          "name": "stdout",
          "text": [
            "list after removing 11 and 13--> [12, 14]\n"
          ]
        }
      ]
    },
    {
      "cell_type": "markdown",
      "source": [
        "(iii) wap to sort list in ascending order"
      ],
      "metadata": {
        "id": "YoPrG1pYeyZ6"
      }
    },
    {
      "cell_type": "code",
      "source": [
        "L=[11,12,13,14]\n",
        "L.sort()\n",
        "print(\"list is ascending oredr:\",L)"
      ],
      "metadata": {
        "colab": {
          "base_uri": "https://localhost:8080/"
        },
        "id": "UCaY6rzMe7zb",
        "outputId": "ca3ca05d-d94f-4d19-8b1c-a24bc2a2b690"
      },
      "execution_count": 6,
      "outputs": [
        {
          "output_type": "stream",
          "name": "stdout",
          "text": [
            "list is ascending oredr: [11, 12, 13, 14]\n"
          ]
        }
      ]
    },
    {
      "cell_type": "markdown",
      "source": [
        "(iv) wap to sort list in ascending order"
      ],
      "metadata": {
        "id": "0xFxgTuFfJVM"
      }
    },
    {
      "cell_type": "code",
      "source": [
        "L=[11,12,13,14]\n",
        "L.sort(reverse=True)\n",
        "print(\"list in descending order-->\",L)"
      ],
      "metadata": {
        "colab": {
          "base_uri": "https://localhost:8080/"
        },
        "id": "uIAM6U28fP6f",
        "outputId": "098daa90-f9fe-4e81-abbb-f185954db7be"
      },
      "execution_count": 7,
      "outputs": [
        {
          "output_type": "stream",
          "name": "stdout",
          "text": [
            "list in descending order--> [14, 13, 12, 11]\n"
          ]
        }
      ]
    },
    {
      "cell_type": "markdown",
      "source": [
        "(v) wap to search for 13 in L"
      ],
      "metadata": {
        "id": "dTO0z2CQffch"
      }
    },
    {
      "cell_type": "code",
      "source": [
        "L=[11,12,13,14]\n",
        "print(\"13 in list?:\",13 in L)"
      ],
      "metadata": {
        "colab": {
          "base_uri": "https://localhost:8080/"
        },
        "id": "tlbYWVe3frJ8",
        "outputId": "fc0cd24c-9af5-4742-a529-d87125cfd6d3"
      },
      "execution_count": 8,
      "outputs": [
        {
          "output_type": "stream",
          "name": "stdout",
          "text": [
            "13 in list?: True\n"
          ]
        }
      ]
    },
    {
      "cell_type": "markdown",
      "source": [
        "(vi) wap to count the number of elements present in list"
      ],
      "metadata": {
        "id": "JsNub8Mif3__"
      }
    },
    {
      "cell_type": "code",
      "source": [
        "L=[11,12,13,14]\n",
        "print(\"count:\",len(L))"
      ],
      "metadata": {
        "colab": {
          "base_uri": "https://localhost:8080/"
        },
        "id": "6lVVtr6_gAC5",
        "outputId": "1a17521e-2ba8-4922-de9a-c763d15e7daf"
      },
      "execution_count": 10,
      "outputs": [
        {
          "output_type": "stream",
          "name": "stdout",
          "text": [
            "count: 4\n"
          ]
        }
      ]
    },
    {
      "cell_type": "markdown",
      "source": [
        "(vii)wap to sum all the elements in L"
      ],
      "metadata": {
        "id": "LDKvy2jlgMJ_"
      }
    },
    {
      "cell_type": "code",
      "source": [
        "L=[11,12,13,14]\n",
        "print(\"sum:\",sum(L))"
      ],
      "metadata": {
        "colab": {
          "base_uri": "https://localhost:8080/"
        },
        "id": "ivQH_YzNgSWb",
        "outputId": "a8df36b7-bfce-4328-bc16-0f524eb8b287"
      },
      "execution_count": 11,
      "outputs": [
        {
          "output_type": "stream",
          "name": "stdout",
          "text": [
            "sum: 50\n"
          ]
        }
      ]
    },
    {
      "cell_type": "markdown",
      "source": [
        "(viii) wap to sum all odd numbers in list"
      ],
      "metadata": {
        "id": "KNTRAlh9gdMY"
      }
    },
    {
      "cell_type": "code",
      "source": [
        "L=[11,12,13,14]\n",
        "print(\"odd sum:\",sum(i for i in L if i%2!=0))"
      ],
      "metadata": {
        "colab": {
          "base_uri": "https://localhost:8080/"
        },
        "id": "kmFI6EgogjNc",
        "outputId": "0ed89504-3809-4e34-c831-8d574dd2cce8"
      },
      "execution_count": 13,
      "outputs": [
        {
          "output_type": "stream",
          "name": "stdout",
          "text": [
            "odd sum: 24\n"
          ]
        }
      ]
    },
    {
      "cell_type": "markdown",
      "source": [
        "(ix) wap to summ all even numbers in list"
      ],
      "metadata": {
        "id": "y6k6d4IMg5sJ"
      }
    },
    {
      "cell_type": "code",
      "source": [
        "L=[11,12,13,14]\n",
        "print(\"even sum:\",sum(i for i in L if i%2==0))"
      ],
      "metadata": {
        "colab": {
          "base_uri": "https://localhost:8080/"
        },
        "id": "Ttx4eov4g-X8",
        "outputId": "b1d7f5b7-d259-4d34-8cce-544585eb796d"
      },
      "execution_count": 14,
      "outputs": [
        {
          "output_type": "stream",
          "name": "stdout",
          "text": [
            "even sum: 26\n"
          ]
        }
      ]
    },
    {
      "cell_type": "markdown",
      "source": [
        "(x) wap to summ all prime numbers in L"
      ],
      "metadata": {
        "id": "1UPDfzE8hXed"
      }
    },
    {
      "cell_type": "code",
      "source": [
        "L=[11,12,13,14]\n",
        "def isprime(n):\n",
        "  for i in range(2,n // 2 + 1):\n",
        "   if n%i==0:\n",
        "     return 0\n",
        "  return 1\n",
        "print(\"prime sum\",sum(i for i in L if isprime(i)))"
      ],
      "metadata": {
        "colab": {
          "base_uri": "https://localhost:8080/"
        },
        "id": "AX_LVjDThc1H",
        "outputId": "24da23cd-98fb-427a-b928-7df9ff2f2e2a"
      },
      "execution_count": 91,
      "outputs": [
        {
          "output_type": "stream",
          "name": "stdout",
          "text": [
            "prime sum 24\n"
          ]
        }
      ]
    },
    {
      "cell_type": "markdown",
      "source": [
        "(xi) wap to clear all elements in list"
      ],
      "metadata": {
        "id": "-oBGCGDMiTG9"
      }
    },
    {
      "cell_type": "code",
      "source": [
        "L=[11,12,13,14]\n",
        "L.clear()\n",
        "print(\"cleared list:\",L)"
      ],
      "metadata": {
        "colab": {
          "base_uri": "https://localhost:8080/"
        },
        "id": "7LubJ_Q5iYZK",
        "outputId": "c0427527-9d9b-4dde-8896-58328ea6bff3"
      },
      "execution_count": 16,
      "outputs": [
        {
          "output_type": "stream",
          "name": "stdout",
          "text": [
            "cleared list: []\n"
          ]
        }
      ]
    },
    {
      "cell_type": "markdown",
      "source": [
        "(xii) wap to delete L"
      ],
      "metadata": {
        "id": "ooX2zDimijF7"
      }
    },
    {
      "cell_type": "code",
      "source": [
        "L=[11,12,13,14]\n",
        "del L\n",
        "print(\"deleted list:\",L)"
      ],
      "metadata": {
        "colab": {
          "base_uri": "https://localhost:8080/",
          "height": 176
        },
        "id": "h_PSXndCiqck",
        "outputId": "3aa850ab-7452-49eb-db76-e39e0c46ade1"
      },
      "execution_count": 18,
      "outputs": [
        {
          "output_type": "error",
          "ename": "NameError",
          "evalue": "name 'L' is not defined",
          "traceback": [
            "\u001b[0;31m---------------------------------------------------------------------------\u001b[0m",
            "\u001b[0;31mNameError\u001b[0m                                 Traceback (most recent call last)",
            "\u001b[0;32m<ipython-input-18-3939349973>\u001b[0m in \u001b[0;36m<cell line: 0>\u001b[0;34m()\u001b[0m\n\u001b[1;32m      1\u001b[0m \u001b[0mL\u001b[0m\u001b[0;34m=\u001b[0m\u001b[0;34m[\u001b[0m\u001b[0;36m11\u001b[0m\u001b[0;34m,\u001b[0m\u001b[0;36m12\u001b[0m\u001b[0;34m,\u001b[0m\u001b[0;36m13\u001b[0m\u001b[0;34m,\u001b[0m\u001b[0;36m14\u001b[0m\u001b[0;34m]\u001b[0m\u001b[0;34m\u001b[0m\u001b[0;34m\u001b[0m\u001b[0m\n\u001b[1;32m      2\u001b[0m \u001b[0;32mdel\u001b[0m \u001b[0mL\u001b[0m\u001b[0;34m\u001b[0m\u001b[0;34m\u001b[0m\u001b[0m\n\u001b[0;32m----> 3\u001b[0;31m \u001b[0mprint\u001b[0m\u001b[0;34m(\u001b[0m\u001b[0;34m\"deleted list:\"\u001b[0m\u001b[0;34m,\u001b[0m\u001b[0mL\u001b[0m\u001b[0;34m)\u001b[0m\u001b[0;34m\u001b[0m\u001b[0;34m\u001b[0m\u001b[0m\n\u001b[0m",
            "\u001b[0;31mNameError\u001b[0m: name 'L' is not defined"
          ]
        }
      ]
    },
    {
      "cell_type": "markdown",
      "source": [
        "Q2 D is a dictionary defined as D={1:5.6,2:7.8,3:6.6,4:8.7,5:7.7}"
      ],
      "metadata": {
        "id": "69DnZx-Zi5-s"
      }
    },
    {
      "cell_type": "markdown",
      "source": [
        "(i) wap to add new entry in D; key=8 and values is 8.8"
      ],
      "metadata": {
        "id": "wxnqFYMdjNT0"
      }
    },
    {
      "cell_type": "code",
      "source": [
        " D={1:5.6,2:7.8,3:6.6,4:8.7,5:7.7}\n",
        " D[8]=8.8\n",
        " print(D)"
      ],
      "metadata": {
        "colab": {
          "base_uri": "https://localhost:8080/"
        },
        "id": "3y3fpAmJjW4x",
        "outputId": "6aab4092-6e3a-488b-d152-b6862d1594fc"
      },
      "execution_count": 19,
      "outputs": [
        {
          "output_type": "stream",
          "name": "stdout",
          "text": [
            "{1: 5.6, 2: 7.8, 3: 6.6, 4: 8.7, 5: 7.7, 8: 8.8}\n"
          ]
        }
      ]
    },
    {
      "cell_type": "markdown",
      "source": [
        "(ii) wap to remove key=2"
      ],
      "metadata": {
        "id": "5zBCoibbjqco"
      }
    },
    {
      "cell_type": "code",
      "source": [
        " D={1:5.6,2:7.8,3:6.6,4:8.7,5:7.7}\n",
        " D.pop(2,None)\n",
        " print(\"D after removing key=2--->\",D)"
      ],
      "metadata": {
        "colab": {
          "base_uri": "https://localhost:8080/"
        },
        "id": "LLAFoLNOju2g",
        "outputId": "fb7d5b39-0002-4dcd-8bf4-95555b2de1e4"
      },
      "execution_count": 20,
      "outputs": [
        {
          "output_type": "stream",
          "name": "stdout",
          "text": [
            "D after removing key=2---> {1: 5.6, 3: 6.6, 4: 8.7, 5: 7.7}\n"
          ]
        }
      ]
    },
    {
      "cell_type": "markdown",
      "source": [
        "(iii)wap to check if 6 key is present in D"
      ],
      "metadata": {
        "id": "lFNB2b7nkBya"
      }
    },
    {
      "cell_type": "code",
      "source": [
        " D={1:5.6,2:7.8,3:6.6,4:8.7,5:7.7}\n",
        " print(\"key 6 exists?-->\",6 in D)"
      ],
      "metadata": {
        "colab": {
          "base_uri": "https://localhost:8080/"
        },
        "id": "r_bzNemGkLhR",
        "outputId": "9ed50e6c-90b5-445d-9ec8-34339a6b9b90"
      },
      "execution_count": 21,
      "outputs": [
        {
          "output_type": "stream",
          "name": "stdout",
          "text": [
            "key 6 exists?--> False\n"
          ]
        }
      ]
    },
    {
      "cell_type": "markdown",
      "source": [
        "(iv) wap to count number of elements in D"
      ],
      "metadata": {
        "id": "C8-0vJ91kXaY"
      }
    },
    {
      "cell_type": "code",
      "source": [
        "D={1:5.6,2:7.8,3:6.6,4:8.7,5:7.7}\n",
        "print(\"count:\",len(D))"
      ],
      "metadata": {
        "colab": {
          "base_uri": "https://localhost:8080/"
        },
        "id": "QG0iD475keGG",
        "outputId": "2ef4e540-f6af-4744-e102-262d9ca12c23"
      },
      "execution_count": 22,
      "outputs": [
        {
          "output_type": "stream",
          "name": "stdout",
          "text": [
            "count: 5\n"
          ]
        }
      ]
    },
    {
      "cell_type": "markdown",
      "source": [
        "(v) wap to Add all values present in D"
      ],
      "metadata": {
        "id": "vVcRrS0WknoJ"
      }
    },
    {
      "cell_type": "code",
      "source": [
        "D={1:5.6,2:7.8,3:6.6,4:8.7,5:7.7}\n",
        "print(\"sum of values:\",sum(D.values()))"
      ],
      "metadata": {
        "colab": {
          "base_uri": "https://localhost:8080/"
        },
        "id": "umMQiF_5kvHJ",
        "outputId": "57ce309d-0c7b-4ed5-a716-9419328a9c16"
      },
      "execution_count": 23,
      "outputs": [
        {
          "output_type": "stream",
          "name": "stdout",
          "text": [
            "sum of values: 36.4\n"
          ]
        }
      ]
    },
    {
      "cell_type": "markdown",
      "source": [
        "(vi) wap to update the value of 3 to 7.1"
      ],
      "metadata": {
        "id": "WYJQmjmIk9sn"
      }
    },
    {
      "cell_type": "code",
      "source": [
        " D={1:5.6,2:7.8,3:6.6,4:8.7,5:7.7}\n",
        " D[3]=7.1\n",
        " print(\"d after UPDATING new key:\",D)"
      ],
      "metadata": {
        "colab": {
          "base_uri": "https://localhost:8080/"
        },
        "id": "hgFNx-DSlHf9",
        "outputId": "b3bf9945-63a7-4de8-ff41-87aedf4e2571"
      },
      "execution_count": 25,
      "outputs": [
        {
          "output_type": "stream",
          "name": "stdout",
          "text": [
            "d after UPDATING new key: {1: 5.6, 2: 7.8, 3: 7.1, 4: 8.7, 5: 7.7}\n"
          ]
        }
      ]
    },
    {
      "cell_type": "markdown",
      "source": [
        "(vii) wap to clear the dictionary"
      ],
      "metadata": {
        "id": "TOghFmVXlX56"
      }
    },
    {
      "cell_type": "code",
      "source": [
        " D={1:5.6,2:7.8,3:6.6,4:8.7,5:7.7}\n",
        " D.clear()\n",
        " print(\"D after clearing:\",D)"
      ],
      "metadata": {
        "colab": {
          "base_uri": "https://localhost:8080/"
        },
        "id": "5qUd5W6AleQK",
        "outputId": "dc27ecd0-6d83-4fe8-d539-6ebdec57c470"
      },
      "execution_count": 26,
      "outputs": [
        {
          "output_type": "stream",
          "name": "stdout",
          "text": [
            "D after clearing: {}\n"
          ]
        }
      ]
    },
    {
      "cell_type": "markdown",
      "source": [
        "Q3. S1 is a set defined as S1={10,20,30,40,50,60},S2  is defined as S2={40,50,60,70,80,90}."
      ],
      "metadata": {
        "id": "ZC-f9OAQlpf9"
      }
    },
    {
      "cell_type": "markdown",
      "source": [
        "(i) wap to add 55 and 66 in set S1"
      ],
      "metadata": {
        "id": "bScvTJ3dmD-e"
      }
    },
    {
      "cell_type": "code",
      "source": [
        "S1={10,20,30,40,50,60}\n",
        "S1.update([55,66])\n",
        "print(\"S1 after adding values:\",S1)"
      ],
      "metadata": {
        "colab": {
          "base_uri": "https://localhost:8080/"
        },
        "id": "WaNpWh70mJoG",
        "outputId": "6145099d-25be-4ef4-c9c8-db4ffff50b7d"
      },
      "execution_count": 28,
      "outputs": [
        {
          "output_type": "stream",
          "name": "stdout",
          "text": [
            "S1 after adding values: {50, 66, 20, 55, 40, 10, 60, 30}\n"
          ]
        }
      ]
    },
    {
      "cell_type": "markdown",
      "source": [
        "(ii) wap to remove 10 and 30 from set S1"
      ],
      "metadata": {
        "id": "TNZQxfGAmdeh"
      }
    },
    {
      "cell_type": "code",
      "source": [
        "S1={10,20,30,40,50,60}\n",
        "S1.discard(10)\n",
        "S1.discard(30)\n",
        "print(\"s1 after removing 10 and 30:\",S1)"
      ],
      "metadata": {
        "colab": {
          "base_uri": "https://localhost:8080/"
        },
        "id": "PT0S_ytpmj1j",
        "outputId": "ab443a00-e986-426e-df67-ef87c62d3752"
      },
      "execution_count": 29,
      "outputs": [
        {
          "output_type": "stream",
          "name": "stdout",
          "text": [
            "s1 after removing 10 and 30: {50, 20, 40, 60}\n"
          ]
        }
      ]
    },
    {
      "cell_type": "markdown",
      "source": [
        "(iii) wap to check whether 40 is present in S1."
      ],
      "metadata": {
        "id": "8E_4Bqvbmzsc"
      }
    },
    {
      "cell_type": "code",
      "source": [
        "S1={10,20,30,40,50,60}\n",
        "print(\"40 in S1?-->\",40 in S1)"
      ],
      "metadata": {
        "colab": {
          "base_uri": "https://localhost:8080/"
        },
        "id": "_idDYqRKm7hu",
        "outputId": "65e6d6a5-8273-4c8f-8b46-d79f0800cf42"
      },
      "execution_count": 30,
      "outputs": [
        {
          "output_type": "stream",
          "name": "stdout",
          "text": [
            "40 in S1?--> True\n"
          ]
        }
      ]
    },
    {
      "cell_type": "markdown",
      "source": [
        "(iv) wap to find union between S1 and S2."
      ],
      "metadata": {
        "id": "_bMb65wAnD0O"
      }
    },
    {
      "cell_type": "code",
      "source": [
        "S1={10,20,30,40,50,60}\n",
        "S2={40,50,60,70,80,90}\n",
        "print(\"union:\",S1.union(S2))\n"
      ],
      "metadata": {
        "colab": {
          "base_uri": "https://localhost:8080/"
        },
        "id": "K71kGPqdnKcF",
        "outputId": "c84b86f1-0107-455f-c386-87f73fae3221"
      },
      "execution_count": 33,
      "outputs": [
        {
          "output_type": "stream",
          "name": "stdout",
          "text": [
            "union: {70, 40, 10, 80, 50, 20, 90, 60, 30}\n"
          ]
        }
      ]
    },
    {
      "cell_type": "markdown",
      "source": [
        "(v) wap to find intersection between S1 and S2."
      ],
      "metadata": {
        "id": "uLh7Nfwpn7FI"
      }
    },
    {
      "cell_type": "code",
      "source": [
        "S1={10,20,30,40,50,60}\n",
        "S2={40,50,60,70,80,90}\n",
        "print(\"intersection:\",S1.intersection(S2))"
      ],
      "metadata": {
        "colab": {
          "base_uri": "https://localhost:8080/"
        },
        "id": "blCLFRTdoMjg",
        "outputId": "7cb2484f-0859-46ee-ba1a-2fb085e37852"
      },
      "execution_count": 34,
      "outputs": [
        {
          "output_type": "stream",
          "name": "stdout",
          "text": [
            "intersection: {40, 50, 60}\n"
          ]
        }
      ]
    },
    {
      "cell_type": "markdown",
      "source": [
        "(vi) wap to find S1-S2."
      ],
      "metadata": {
        "id": "wVFVQqggoZzO"
      }
    },
    {
      "cell_type": "code",
      "source": [
        "S1={10,20,30,40,50,60}\n",
        "S2={40,50,60,70,80,90}\n",
        "print(\"difference:\",S1-S2)"
      ],
      "metadata": {
        "colab": {
          "base_uri": "https://localhost:8080/"
        },
        "id": "If4uElqlog81",
        "outputId": "cb8b7487-b081-4ddc-9ba0-81c525bbec46"
      },
      "execution_count": 36,
      "outputs": [
        {
          "output_type": "stream",
          "name": "stdout",
          "text": [
            "difference: {10, 20, 30}\n"
          ]
        }
      ]
    },
    {
      "cell_type": "markdown",
      "source": [
        "Q4. write the following program."
      ],
      "metadata": {
        "id": "ejcOA8U0oqt4"
      }
    },
    {
      "cell_type": "markdown",
      "source": [
        "(i) wap to print 100 random strings whose length between 6 and 8."
      ],
      "metadata": {
        "id": "4VCNMi1IowCD"
      }
    },
    {
      "cell_type": "code",
      "source": [
        "import random as r\n",
        "import string as s\n",
        "for i in range(100):\n",
        "  print(' '.join(r.choices(s.ascii_letters,k=r.randint(6,8))))"
      ],
      "metadata": {
        "colab": {
          "base_uri": "https://localhost:8080/"
        },
        "id": "Lu3CA8hmo9It",
        "outputId": "76d6fc21-ab55-4a2e-8e0a-908bbf13f75b"
      },
      "execution_count": 38,
      "outputs": [
        {
          "output_type": "stream",
          "name": "stdout",
          "text": [
            "H A S W V a T U\n",
            "t u v C T r a\n",
            "L j d W y e C z\n",
            "z P f b C u z e\n",
            "l G c s g K d S\n",
            "r Z d P y y Q m\n",
            "G H w I Q c\n",
            "b G k N q G i\n",
            "v I k c N i\n",
            "c E Y h z z\n",
            "k l U k j f\n",
            "K W W d D X\n",
            "l W O F J b C\n",
            "R h D o Y I b\n",
            "t f l b L k V\n",
            "G R f A O x\n",
            "q B f T g N O\n",
            "X p V W z y E J\n",
            "O k t d x H o\n",
            "W c W A H i\n",
            "h O W s D a\n",
            "o C m W O t D I\n",
            "V e p U V g M U\n",
            "z J a g Z Y m S\n",
            "R x c K j M w Q\n",
            "D x C S o v\n",
            "S a U j p V x e\n",
            "I Z J r w z\n",
            "z a K F E t t Q\n",
            "N i J J D G a W\n",
            "y G b d y H m M\n",
            "u q H X o M\n",
            "h r V J X q\n",
            "i W A z n k h\n",
            "R V R J m Y B c\n",
            "f n g P r B w\n",
            "t X c L k w F D\n",
            "L X h G y A\n",
            "K v E l z z k\n",
            "m w L W L a o L\n",
            "o t q y o H I\n",
            "W r G u I q V Y\n",
            "g m X d U M E N\n",
            "u l e o i f u u\n",
            "H r a a h G\n",
            "f R B T H G O p\n",
            "n o k Y i a k\n",
            "U w N q p Y L\n",
            "n a p E V m\n",
            "u L p H W W b d\n",
            "b w R Z J N h w\n",
            "y P M O X R J N\n",
            "L c J f F W L T\n",
            "l p V E Q y l\n",
            "X n H m K V\n",
            "K G B T j A\n",
            "W b X H x U p\n",
            "i M U k v L\n",
            "I b V D k T f\n",
            "Y u I q T W\n",
            "L n h a q O o n\n",
            "U c r n D l\n",
            "B k z H O m H c\n",
            "n d w y C C\n",
            "a h J m r X K\n",
            "P F W J l O W\n",
            "e B P E o Y\n",
            "n Y o O p k\n",
            "M X f D V X Y\n",
            "V i Y C q X\n",
            "T W N h Z b D Y\n",
            "R D u y k l v s\n",
            "h q v J S f\n",
            "f m u K D p\n",
            "i d B e k E O f\n",
            "B K F o F S W\n",
            "X u w U G R v z\n",
            "k r Q y J l l\n",
            "D c c T J e p X\n",
            "G A W g e V M r\n",
            "j w V s f B\n",
            "v I i A j U\n",
            "m I E w N O D\n",
            "J E u T i r\n",
            "U e v Q q h\n",
            "O e E Q j D h n\n",
            "E Q a G B F X x\n",
            "S Y F q L H\n",
            "l N r D m O B c\n",
            "F T N T q w T f\n",
            "c n n H x x\n",
            "q F S m C Z\n",
            "q g R k z Q a\n",
            "o H E o k E\n",
            "f z F N q k u\n",
            "V z g b r G S V\n",
            "c d a a R N J G\n",
            "r g f y b c G E\n",
            "H t d S A Z N\n",
            "R v R r J h\n"
          ]
        }
      ]
    },
    {
      "cell_type": "markdown",
      "source": [
        "(ii) wap to print all prime numbers between 600 and 800."
      ],
      "metadata": {
        "id": "9IswLjXYqu8t"
      }
    },
    {
      "cell_type": "code",
      "source": [
        "import random as r\n",
        "import string as s\n",
        "def isprime(n):\n",
        "  for i in range(2,n // 2 + 1):\n",
        "   if n%i==0:\n",
        "     return 0\n",
        "  return 1\n",
        "for num in range(600,801):\n",
        "  if isprime(num):\n",
        "    print(num)\n",
        "\n",
        ""
      ],
      "metadata": {
        "colab": {
          "base_uri": "https://localhost:8080/"
        },
        "id": "Fcvv3aPyq5Mx",
        "outputId": "8b475863-37f4-475a-e83a-f45942523590"
      },
      "execution_count": 92,
      "outputs": [
        {
          "output_type": "stream",
          "name": "stdout",
          "text": [
            "601\n",
            "607\n",
            "613\n",
            "617\n",
            "619\n",
            "631\n",
            "641\n",
            "643\n",
            "647\n",
            "653\n",
            "659\n",
            "661\n",
            "673\n",
            "677\n",
            "683\n",
            "691\n",
            "701\n",
            "709\n",
            "719\n",
            "727\n",
            "733\n",
            "739\n",
            "743\n",
            "751\n",
            "757\n",
            "761\n",
            "769\n",
            "773\n",
            "787\n",
            "797\n"
          ]
        }
      ]
    },
    {
      "cell_type": "markdown",
      "source": [
        "(iii) wap to print all numbers between 100 and 1000 that are divisible by 7 and 9."
      ],
      "metadata": {
        "id": "CDfLncxTrupl"
      }
    },
    {
      "cell_type": "code",
      "source": [
        "for num in range(100,1001):\n",
        "  if num%7==0 and num%9==0:\n",
        "    print(num)"
      ],
      "metadata": {
        "colab": {
          "base_uri": "https://localhost:8080/"
        },
        "id": "xmSVeBywr56u",
        "outputId": "5b470453-3da6-41bb-b4a7-c1f534845586"
      },
      "execution_count": 41,
      "outputs": [
        {
          "output_type": "stream",
          "name": "stdout",
          "text": [
            "126\n",
            "189\n",
            "252\n",
            "315\n",
            "378\n",
            "441\n",
            "504\n",
            "567\n",
            "630\n",
            "693\n",
            "756\n",
            "819\n",
            "882\n",
            "945\n"
          ]
        }
      ]
    },
    {
      "cell_type": "markdown",
      "source": [
        "Q5. wap create two lists of 10 random numbers between 10 and 30;find"
      ],
      "metadata": {
        "id": "Fz6I7Ku9sPkh"
      }
    },
    {
      "cell_type": "markdown",
      "source": [],
      "metadata": {
        "id": "uS2ghavWuEF1"
      }
    },
    {
      "cell_type": "markdown",
      "source": [
        "(i) common numbers in two lists."
      ],
      "metadata": {
        "id": "ERW9j-giscNr"
      }
    },
    {
      "cell_type": "code",
      "source": [
        "import random as r\n",
        "l1=[r.randint(10,30) for i in range(10)]\n",
        "l2=[r.randint(10,30) for i in range(10)]\n",
        "print(\"common:\",list(set(l1)&set(l2)))"
      ],
      "metadata": {
        "colab": {
          "base_uri": "https://localhost:8080/"
        },
        "id": "34LOpm63sgd8",
        "outputId": "a15ea6b0-8cb3-4bef-f131-2488872530d4"
      },
      "execution_count": 45,
      "outputs": [
        {
          "output_type": "stream",
          "name": "stdout",
          "text": [
            "common: [15]\n"
          ]
        }
      ]
    },
    {
      "cell_type": "markdown",
      "source": [
        "(ii) unique numbers in both list."
      ],
      "metadata": {
        "id": "FL-MKtIStPif"
      }
    },
    {
      "cell_type": "code",
      "source": [
        "l1=[r.randint(10,30) for i in range(10)]\n",
        "l2=[r.randint(10,30) for i in range(10)]\n",
        "print(\"unique:\",list(set(l1)^set(l2)))"
      ],
      "metadata": {
        "colab": {
          "base_uri": "https://localhost:8080/"
        },
        "id": "xgclE-jotVcF",
        "outputId": "dd535606-266e-4dce-b96a-c690661e5d41"
      },
      "execution_count": 46,
      "outputs": [
        {
          "output_type": "stream",
          "name": "stdout",
          "text": [
            "unique: [10, 14, 16, 17, 19, 23, 25, 26, 28, 30]\n"
          ]
        }
      ]
    },
    {
      "cell_type": "markdown",
      "source": [
        "(iii) minimum in both lists."
      ],
      "metadata": {
        "id": "j7qm-oEethSg"
      }
    },
    {
      "cell_type": "code",
      "source": [
        "l1=[r.randint(10,30) for i in range(10)]\n",
        "l2=[r.randint(10,30) for i in range(10)]\n",
        "print(\"min l1:\",min(l1),\"min l2:\",min(l2))"
      ],
      "metadata": {
        "colab": {
          "base_uri": "https://localhost:8080/"
        },
        "id": "Ta1H5JPwtlb0",
        "outputId": "8929fe9c-cae2-4d96-c418-f2913e8549b7"
      },
      "execution_count": 47,
      "outputs": [
        {
          "output_type": "stream",
          "name": "stdout",
          "text": [
            "min l1: 11 min l2: 10\n"
          ]
        }
      ]
    },
    {
      "cell_type": "markdown",
      "source": [
        "(iv) maximum in both lists."
      ],
      "metadata": {
        "id": "qR9W7YIIuQrW"
      }
    },
    {
      "cell_type": "code",
      "source": [
        "l1=[r.randint(10,30) for i in range(10)]\n",
        "l2=[r.randint(10,30) for i in range(10)]\n",
        "print(\"max l1:\",max(l1),\"max l2\",max(l2))"
      ],
      "metadata": {
        "colab": {
          "base_uri": "https://localhost:8080/"
        },
        "id": "-UBt6dTcuVDv",
        "outputId": "4bb0c9d3-4abb-45f1-a87b-825926e18a3c"
      },
      "execution_count": 48,
      "outputs": [
        {
          "output_type": "stream",
          "name": "stdout",
          "text": [
            "max l1: 25 max l2 28\n"
          ]
        }
      ]
    },
    {
      "cell_type": "markdown",
      "source": [
        "(v) sum of both lists."
      ],
      "metadata": {
        "id": "MzNp1Q5WugxR"
      }
    },
    {
      "cell_type": "code",
      "source": [
        "l1=[r.randint(10,30) for i in range(10)]\n",
        "l2=[r.randint(10,30) for i in range(10)]\n",
        "print(\" sum list1:\",sum(l1) ,\"sum list2:\",sum(l2))"
      ],
      "metadata": {
        "colab": {
          "base_uri": "https://localhost:8080/"
        },
        "id": "pnY3FyNSup7A",
        "outputId": "d0bae89c-7872-4e9c-826c-76847425c2e0"
      },
      "execution_count": 50,
      "outputs": [
        {
          "output_type": "stream",
          "name": "stdout",
          "text": [
            " sum list1: 207 sum list2: 249\n"
          ]
        }
      ]
    },
    {
      "cell_type": "markdown",
      "source": [
        "Q6. wap to create list of 100 random numbers between 100 and 900.count and print the"
      ],
      "metadata": {
        "id": "H2MhntPQvBp2"
      }
    },
    {
      "cell_type": "markdown",
      "source": [
        "(i) all odd numbers"
      ],
      "metadata": {
        "id": "cUpkslwmvOml"
      }
    },
    {
      "cell_type": "code",
      "source": [
        "import random as r\n",
        "l=[r.randint(100,900) for i in range(100)]\n",
        "print(\"odd numbers:\",[i for i in l if i%2!=0])"
      ],
      "metadata": {
        "colab": {
          "base_uri": "https://localhost:8080/"
        },
        "id": "f7h1G27kvRvd",
        "outputId": "f282919d-5643-473f-9628-4bf97d603ac4"
      },
      "execution_count": 51,
      "outputs": [
        {
          "output_type": "stream",
          "name": "stdout",
          "text": [
            "odd numbers: [537, 343, 257, 585, 519, 169, 277, 431, 205, 185, 575, 313, 315, 507, 485, 895, 169, 319, 281, 373, 863, 455, 607, 191, 287, 263, 733, 539, 343, 805, 269, 871, 641, 229, 671, 453, 129, 843, 693, 107, 331, 825, 335, 353, 197, 221, 815, 719]\n"
          ]
        }
      ]
    },
    {
      "cell_type": "markdown",
      "source": [
        "(ii)"
      ],
      "metadata": {
        "id": "f0aLLZORvhcv"
      }
    },
    {
      "cell_type": "markdown",
      "source": [
        "(ii) all even numbers"
      ],
      "metadata": {
        "id": "gOtsWBmsvim4"
      }
    },
    {
      "cell_type": "code",
      "source": [
        "import random as r\n",
        "l=[r.randint(100,900) for i in range(100)]\n",
        "print(\"even numbers:\",[i for i in l if i%2==0])"
      ],
      "metadata": {
        "colab": {
          "base_uri": "https://localhost:8080/"
        },
        "id": "eYOZR9oTvnJN",
        "outputId": "3f88816d-734d-4414-f9a5-b2f6112c35e8"
      },
      "execution_count": 53,
      "outputs": [
        {
          "output_type": "stream",
          "name": "stdout",
          "text": [
            "even numbers: [840, 520, 120, 882, 268, 266, 170, 584, 608, 664, 364, 562, 740, 370, 682, 898, 256, 764, 880, 458, 776, 248, 686, 798, 192, 854, 330, 432, 402, 608, 132, 606, 404, 452, 490, 448, 456, 500, 552, 734, 256, 426, 720, 464, 648, 416, 262, 594, 330]\n"
          ]
        }
      ]
    },
    {
      "cell_type": "markdown",
      "source": [
        "(iii) all prime numbers."
      ],
      "metadata": {
        "id": "mpcsMvc-v0YW"
      }
    },
    {
      "cell_type": "code",
      "source": [
        "import random as r\n",
        "def isprime(n):\n",
        "  for i in range(2,n // 2 + 1):\n",
        "   if n%i==0:\n",
        "     return 0\n",
        "  return 1\n",
        "l=[r.randint(100,900) for i in range(100)]\n",
        "print(\"prime numbers:\",[i for i in l if isprime(i)])"
      ],
      "metadata": {
        "colab": {
          "base_uri": "https://localhost:8080/"
        },
        "id": "DAD1DuDFv3Hr",
        "outputId": "b7c487ed-2841-4f6a-eb1b-0241f7f18967"
      },
      "execution_count": 93,
      "outputs": [
        {
          "output_type": "stream",
          "name": "stdout",
          "text": [
            "prime numbers: [641, 577, 761, 577, 347, 173, 179, 647, 719, 499, 167, 421, 463, 653, 191, 463, 887]\n"
          ]
        }
      ]
    },
    {
      "cell_type": "markdown",
      "source": [
        "Q7.D is a dictionary defined as D={1: \"one\",2:\"two\",3:\"three\",4:\"four\",5:\"five\"}.\n",
        "wap to read all the keys and values from dictionary and write to the file in given below format.\n",
        "key1,value1\n",
        "key2,value2\n",
        "key3,value3"
      ],
      "metadata": {
        "id": "tLGHxYwxwbku"
      }
    },
    {
      "cell_type": "code",
      "source": [
        "D={1: \"one\",2:\"two\",3:\"three\",4:\"four\",5:\"five\"}\n",
        "fp=open(\"dict_file.txt\",\"w\")\n",
        "for key,value in D.items():\n",
        "    fp.write(f\"{key},{value}\\n\")\n",
        "\n",
        ""
      ],
      "metadata": {
        "id": "JalQv6i6xMT9"
      },
      "execution_count": 124,
      "outputs": []
    },
    {
      "cell_type": "markdown",
      "source": [
        "Q8. L is a list defined as L=[\"one\",\"two\",\"three\",\"four\",\"five\"]\n",
        "wap to count the lenth of each element from list and right to the file in given below format: one,3\n",
        "two,3\n",
        "four,4"
      ],
      "metadata": {
        "id": "GORYTNXi2h_7"
      }
    },
    {
      "cell_type": "code",
      "source": [
        "L=[\"one\",\"two\",\"three\",\"four\",\"five\"]\n",
        "fp=open(\"len_file.txt\",\"w\")\n",
        "for i in L:\n",
        "    fp.write(f\"{i},{len(i)}\\n\")"
      ],
      "metadata": {
        "id": "xc6i0Q6W3Nrg"
      },
      "execution_count": 96,
      "outputs": []
    },
    {
      "cell_type": "markdown",
      "source": [
        "Q9.write to file 100 random strings whose length between 10 and 15."
      ],
      "metadata": {
        "id": "6dBFgUdK4Q70"
      }
    },
    {
      "cell_type": "code",
      "source": [
        "import random as r\n",
        "import string as s\n",
        "fp=open(\"random_strings.txt\",\"w\")\n",
        "for i in range(100):\n",
        "   t= ''.join(r.choices(s.ascii_letters ,k=r.randint(10,15)))\n",
        "   fp.write(t+\"\\n\")\n"
      ],
      "metadata": {
        "id": "Dk_wrA5R4dHS"
      },
      "execution_count": 98,
      "outputs": []
    },
    {
      "cell_type": "markdown",
      "source": [
        "Q10.write the the file all prime numbers between 600 and 800."
      ],
      "metadata": {
        "id": "n82mtkmk5mjR"
      }
    },
    {
      "cell_type": "code",
      "source": [
        "fp= open(\"prime.txt\",\"w\")\n",
        "def isprime(num):\n",
        "  if num<2:\n",
        "    return 0\n",
        "  for i in range(2,num // 2 + 1):\n",
        "   if num%i==0:\n",
        "     return 0\n",
        "  return 1\n",
        "for num in range(600,801):\n",
        "  if isprime(num):\n",
        "    fp.write(str(num)+\"\\n\")\n"
      ],
      "metadata": {
        "id": "tGIvnl7hGmux"
      },
      "execution_count": 117,
      "outputs": []
    },
    {
      "cell_type": "markdown",
      "source": [
        "Q11. wap to calculate the time taken by program"
      ],
      "metadata": {
        "id": "q3UcDZ4K8Xyl"
      }
    },
    {
      "cell_type": "code",
      "source": [
        "import time as t\n",
        "start=t.time()\n",
        "sum([i for i in range(1000000)])\n",
        "end=t.time()\n",
        "print(\"time taken:\",end-start)"
      ],
      "metadata": {
        "colab": {
          "base_uri": "https://localhost:8080/"
        },
        "id": "8rUxsLJ58fIO",
        "outputId": "11ca98dd-1be6-4c34-82ec-e9a5d4536836"
      },
      "execution_count": 118,
      "outputs": [
        {
          "output_type": "stream",
          "name": "stdout",
          "text": [
            "time taken: 0.08949732780456543\n"
          ]
        }
      ]
    },
    {
      "cell_type": "markdown",
      "source": [
        "Q12.wap to sort following numbers in list, calculate time taken  and plot the graph.number of elements in list=[\"5k\",\"10k\",\"15k\",\"20k\",\"25k\"] and time taken=[\"t1\",\"t2\",\"t3\",\"t4\",\"t5\"]"
      ],
      "metadata": {
        "id": "XgvuUn598fxB"
      }
    },
    {
      "cell_type": "code",
      "source": [
        "import random as r\n",
        "import time as t\n",
        "import matplotlib.pyplot as plt\n",
        "sizes=[5000,10000,15000,20000,25000]\n",
        "times=[]\n",
        "for size in sizes:\n",
        "  data=[r.randint(0,100000) for i in range(size)]\n",
        "  start=t.time()\n",
        "  sorted(data)\n",
        "  end=t.time()\n",
        "  times.append(end-start)\n",
        "plt.plot(sizes,times)\n",
        "plt.xlabel(\"number of elements\")\n",
        "plt.ylabel(\"time taken(s)\")\n",
        "plt.title(\"sorting time vs list size\")\n",
        "plt.grid()\n",
        "plt.show()"
      ],
      "metadata": {
        "colab": {
          "base_uri": "https://localhost:8080/",
          "height": 472
        },
        "id": "c3fQoOuS8skF",
        "outputId": "90b9fe63-2184-4207-8587-73e1da282987"
      },
      "execution_count": 122,
      "outputs": [
        {
          "output_type": "display_data",
          "data": {
            "text/plain": [
              "<Figure size 640x480 with 1 Axes>"
            ],
            "image/png": "[encoded data removed]"
          },
          "metadata": {}
        }
      ]
    },
    {
      "cell_type": "markdown",
      "source": [
        "Q13. wap to create a dictionary of student marks in five subjects and you have to find the student having minimum and  maximum average marks."
      ],
      "metadata": {
        "id": "AQvNBlrD8tct"
      }
    },
    {
      "cell_type": "code",
      "source": [
        "students={\n",
        "    \"kim\":[80,85,78,92,88],\n",
        "     \"john\":[75,80,70,90,85],\n",
        "     \"jeon\":[90,92,88,95,94],\n",
        "    \"jung\":[60,65,70,68,72]\n",
        "}\n",
        "averages={name: sum(marks)/len(marks) for name,marks in students.items()}\n",
        "min_student=min(averages,key=averages.get)\n",
        "max_student=max(averages,key=averages.get)\n",
        "print(\"max average:\",max_student,averages[max_student])\n",
        "print(\"min average:\",min_student, averages[min_student])"
      ],
      "metadata": {
        "colab": {
          "base_uri": "https://localhost:8080/"
        },
        "id": "b6abQcju9Gwn",
        "outputId": "6f65ed33-4376-4b99-d4a3-9015b0239ff1"
      },
      "execution_count": 69,
      "outputs": [
        {
          "output_type": "stream",
          "name": "stdout",
          "text": [
            "max average: jeon 91.8\n",
            "min average: jung 67.0\n"
          ]
        }
      ]
    }
  ]
}